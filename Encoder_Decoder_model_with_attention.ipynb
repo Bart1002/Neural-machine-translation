{
  "nbformat": 4,
  "nbformat_minor": 0,
  "metadata": {
    "colab": {
      "name": "Encoder-Decoder model with attention.ipynb",
      "provenance": [],
      "collapsed_sections": [],
      "mount_file_id": "1AiDtUc9amgi-CsfWberlSSeoPoZ5o_u3",
      "authorship_tag": "ABX9TyOQjp3RIE5dZfvZtlquPri8",
      "include_colab_link": true
    },
    "kernelspec": {
      "name": "python3",
      "display_name": "Python 3"
    }
  },
  "cells": [
    {
      "cell_type": "markdown",
      "metadata": {
        "id": "view-in-github",
        "colab_type": "text"
      },
      "source": [
        "<a href=\"https://colab.research.google.com/github/Bart1002/Neural-machine-translation/blob/master/Encoder_Decoder_model_with_attention.ipynb\" target=\"_parent\"><img src=\"https://colab.research.google.com/assets/colab-badge.svg\" alt=\"Open In Colab\"/></a>"
      ]
    },
    {
      "cell_type": "code",
      "metadata": {
        "id": "VZOthiLHl-LJ",
        "colab_type": "code",
        "colab": {
          "base_uri": "https://localhost:8080/",
          "height": 126
        },
        "outputId": "f38c3620-992b-4be9-e686-ed27e1c1cd6d"
      },
      "source": [
        "import tensorflow as tf\n",
        "\n",
        "import matplotlib.pyplot as plt\n",
        "import matplotlib.ticker as ticker\n",
        "from sklearn.model_selection import train_test_split\n",
        "\n",
        "import unicodedata\n",
        "import re\n",
        "import numpy as np\n",
        "import os\n",
        "import io\n",
        "import time\n",
        "\n",
        "from google.colab import drive\n",
        "drive.mount('/content/gdrive')"
      ],
      "execution_count": null,
      "outputs": [
        {
          "output_type": "stream",
          "text": [
            "Go to this URL in a browser: https://accounts.google.com/o/oauth2/auth?client_id=947318989803-6bn6qk8qdgf4n4g3pfee6491hc0brc4i.apps.googleusercontent.com&redirect_uri=urn%3aietf%3awg%3aoauth%3a2.0%3aoob&scope=email%20https%3a%2f%2fwww.googleapis.com%2fauth%2fdocs.test%20https%3a%2f%2fwww.googleapis.com%2fauth%2fdrive%20https%3a%2f%2fwww.googleapis.com%2fauth%2fdrive.photos.readonly%20https%3a%2f%2fwww.googleapis.com%2fauth%2fpeopleapi.readonly&response_type=code\n",
            "\n",
            "Enter your authorization code:\n",
            "··········\n",
            "Mounted at /content/gdrive\n"
          ],
          "name": "stdout"
        }
      ]
    },
    {
      "cell_type": "code",
      "metadata": {
        "id": "KKOFzYavmV1n",
        "colab_type": "code",
        "colab": {
          "base_uri": "https://localhost:8080/",
          "height": 52
        },
        "outputId": "9be63132-f546-4237-b6c5-1429f3642f5c"
      },
      "source": [
        "# donload dataset\n",
        "\n",
        "path_to_zip = tf.keras.utils.get_file(\n",
        "    'spa-eng.zip',origin='http://storage.googleapis.com/download.tensorflow.org/data/spa-eng.zip',\n",
        "    extract=True\n",
        ")\n",
        "\n",
        "path_to_file = os.path.dirname(path_to_zip) + \"/spa-eng/spa.txt\""
      ],
      "execution_count": null,
      "outputs": [
        {
          "output_type": "stream",
          "text": [
            "Downloading data from http://storage.googleapis.com/download.tensorflow.org/data/spa-eng.zip\n",
            "2646016/2638744 [==============================] - 0s 0us/step\n"
          ],
          "name": "stdout"
        }
      ]
    },
    {
      "cell_type": "code",
      "metadata": {
        "id": "NlSpcr6qnFP5",
        "colab_type": "code",
        "colab": {}
      },
      "source": [
        "#convert unicode characters to ascii\n",
        "\n",
        "def unicode_to_ascii(s):\n",
        "  return ''.join(c for c in unicodedata.normalize('NFD',s)\n",
        "  if unicodedata.category(c) != 'Mn')\n",
        "\n",
        "\n",
        "def preprocess_sentence(w):\n",
        "  w = unicode_to_ascii(w.lower().strip())\n",
        "  # creating a space between a word and the punctuation following it\n",
        "  w = re.sub(r\"([?.!,¿])\", r\" \\1 \", w)\n",
        "\n",
        "  w = re.sub(r'[\" \"]+',\" \",w)\n",
        "\n",
        "\n",
        "  # replacing everything with space except (a-z, A-Z, \".\", \"?\", \"!\", \",\")\n",
        "  w = re.sub(r\"[^a-zA-Z?.!,¿]+\",\" \",w)\n",
        "\n",
        "  w = w.strip()\n",
        "\n",
        "  w = '<start> ' + w + ' <end>'\n",
        "\n",
        "  return w"
      ],
      "execution_count": null,
      "outputs": []
    },
    {
      "cell_type": "code",
      "metadata": {
        "id": "1kGp9BOLpR26",
        "colab_type": "code",
        "colab": {
          "base_uri": "https://localhost:8080/",
          "height": 52
        },
        "outputId": "d1ffb1a6-1fc9-4468-c722-9f2426838878"
      },
      "source": [
        "en_sentence = u\"May I borrow this book?\"\n",
        "sp_sentence = u\"¿Puedo tomar prestado este libro?\"\n",
        "print(preprocess_sentence(en_sentence))\n",
        "print(preprocess_sentence(sp_sentence).encode('utf-8'))"
      ],
      "execution_count": null,
      "outputs": [
        {
          "output_type": "stream",
          "text": [
            "<start> may i borrow this book ? <end>\n",
            "b'<start> \\xc2\\xbf puedo tomar prestado este libro ? <end>'\n"
          ],
          "name": "stdout"
        }
      ]
    },
    {
      "cell_type": "code",
      "metadata": {
        "id": "zSxbjJPVpVty",
        "colab_type": "code",
        "colab": {}
      },
      "source": [
        "# 1. Remove the accents\n",
        "# 2. Clean the sentences\n",
        "# 3. Return word pairs in the format [ENGLISH, SPANISH]\n",
        "\n",
        "def create_dataset(path, num_examples):\n",
        "  lines = io.open(path,encoding='UTF-8').read().strip().split('\\n')\n",
        "\n",
        "  word_pairs = [[preprocess_sentence(w) for w in l.split('\\t')] for l in lines[:num_examples]]\n",
        "\n",
        "  return zip(*word_pairs)"
      ],
      "execution_count": null,
      "outputs": []
    },
    {
      "cell_type": "code",
      "metadata": {
        "id": "CJs-DiIBqVjt",
        "colab_type": "code",
        "colab": {
          "base_uri": "https://localhost:8080/",
          "height": 161
        },
        "outputId": "b2450642-de91-47c2-dadf-e086ff24d188"
      },
      "source": [
        "en,sp = create_dataset(path_to_file,None)\n",
        "\n",
        "print(en[-1])\n",
        "print(sp[-1])\n",
        "print('\\n\\n')\n",
        "print(len(en))\n",
        "print(len(sp))"
      ],
      "execution_count": null,
      "outputs": [
        {
          "output_type": "stream",
          "text": [
            "<start> if you want to sound like a native speaker, you must be willing to practice saying the same sentence over and over in the same way that banjo players practice the same phrase over and over until they can play it correctly and at the desired tempo. <end>\n",
            "<start> si quieres sonar como un hablante nativo, debes estar dispuesto a practicar diciendo la misma frase una y otra vez de la misma manera en que un musico de banjo practica el mismo fraseo una y otra vez hasta que lo puedan tocar correctamente y en el tiempo esperado. <end>\n",
            "\n",
            "\n",
            "\n",
            "118964\n",
            "118964\n"
          ],
          "name": "stdout"
        }
      ]
    },
    {
      "cell_type": "code",
      "metadata": {
        "id": "5Y-OeFjyqjCP",
        "colab_type": "code",
        "colab": {}
      },
      "source": [
        "def tokenize(lang):\n",
        "  lang_tokenizer = tf.keras.preprocessing.text.Tokenizer(\n",
        "      filters=''\n",
        "  )\n",
        "  lang_tokenizer.fit_on_texts(lang)\n",
        "\n",
        "  tensor = lang_tokenizer.texts_to_sequences(lang)\n",
        "\n",
        "  tensor = tf.keras.preprocessing.sequence.pad_sequences(tensor,\n",
        "                                                         padding='post')\n",
        "  \n",
        "  return tensor, lang_tokenizer"
      ],
      "execution_count": null,
      "outputs": []
    },
    {
      "cell_type": "code",
      "metadata": {
        "id": "z36OsGpHr0mt",
        "colab_type": "code",
        "colab": {}
      },
      "source": [
        "def load_dataset(path, num_examples=None):\n",
        "\n",
        "  targ_lang,inp_lang = create_dataset(path,num_examples)\n",
        "\n",
        "  input_tensor, inp_lang_tokenizer = tokenize(inp_lang)\n",
        "  target_tensor, targ_lang_tokenizer = tokenize(targ_lang)\n",
        "\n",
        "  return input_tensor, target_tensor, inp_lang_tokenizer,targ_lang_tokenizer"
      ],
      "execution_count": null,
      "outputs": []
    },
    {
      "cell_type": "code",
      "metadata": {
        "id": "h6Gww13FsfM0",
        "colab_type": "code",
        "colab": {
          "base_uri": "https://localhost:8080/",
          "height": 35
        },
        "outputId": "dff697e3-bb56-4e60-d4c2-52dd576df9af"
      },
      "source": [
        "input_tensor,target_tensor,inp_lang,targ_lang = load_dataset(path_to_file,130000)\n",
        "max_length_targ,max_length_inp = target_tensor.shape[1],input_tensor.shape[1]\n",
        "\n",
        "print(max_length_targ,max_length_inp)"
      ],
      "execution_count": null,
      "outputs": [
        {
          "output_type": "stream",
          "text": [
            "49 51\n"
          ],
          "name": "stdout"
        }
      ]
    },
    {
      "cell_type": "code",
      "metadata": {
        "id": "5xnalzMctU0B",
        "colab_type": "code",
        "colab": {}
      },
      "source": [
        "input_tensor_train, input_tensor_test, target_tensor_train, target_tensor_test = train_test_split(input_tensor, target_tensor,test_size=0.2)"
      ],
      "execution_count": null,
      "outputs": []
    },
    {
      "cell_type": "code",
      "metadata": {
        "id": "oidvEWXSLUuX",
        "colab_type": "code",
        "colab": {
          "base_uri": "https://localhost:8080/",
          "height": 124
        },
        "outputId": "b9042d63-8d4f-49f0-b27c-0d06241dea69"
      },
      "source": [
        "def convert(lang,tensor):\n",
        "  for i in tensor:\n",
        "    if i != 0:\n",
        "      print(f\"{i} ---> {lang.index_word[i]}\")\n",
        "\n",
        "convert(inp_lang,input_tensor_train[2])"
      ],
      "execution_count": null,
      "outputs": [
        {
          "output_type": "stream",
          "text": [
            "1 ---> <start>\n",
            "61 ---> solo\n",
            "137 ---> tenemos\n",
            "108 ---> tres\n",
            "546 ---> horas.\n",
            "2 ---> <end>\n"
          ],
          "name": "stdout"
        }
      ]
    },
    {
      "cell_type": "code",
      "metadata": {
        "id": "9HFNbcTBPCN5",
        "colab_type": "code",
        "colab": {}
      },
      "source": [
        "BUFFER_SIZE = len(input_tensor_train)\n",
        "BATCH_SIZE = 64\n",
        "steps_per_epoch = len(input_tensor_train)//BATCH_SIZE\n",
        "embedding_dim = 256\n",
        "units = 1024\n",
        "vocab_inp_size = len(inp_lang.word_index)+1\n",
        "vocab_tar_size = len(targ_lang.word_index)+1\n",
        "\n",
        "dataset = tf.data.Dataset.from_tensor_slices((input_tensor_train, target_tensor_train)).shuffle(BUFFER_SIZE)\n",
        "dataset = dataset.batch(BATCH_SIZE, drop_remainder=True)"
      ],
      "execution_count": null,
      "outputs": []
    },
    {
      "cell_type": "code",
      "metadata": {
        "id": "Uva0pVU_SaZy",
        "colab_type": "code",
        "colab": {}
      },
      "source": [
        "class Encoder(tf.keras.Model):\n",
        "  def __init__(self,vocab_size,embedding_dim,enc_units,batch_sz):\n",
        "    super(Encoder,self).__init__()\n",
        "    self.batch_sz = batch_sz\n",
        "    self.enc_units = enc_units\n",
        "    self.embedding = tf.keras.layers.Embedding(vocab_size,embedding_dim)\n",
        "    self.gru = tf.keras.layers.GRU(self.enc_units,\n",
        "                                   return_sequences=True,\n",
        "                                   return_state=True,\n",
        "                                   recurrent_initializer='glorot_uniform')\n",
        "    \n",
        "  def __call__(self,x,hidden):\n",
        "    x = self.embedding(x)\n",
        "    output, state = self.gru(x,initial_state=hidden)\n",
        "    return output, state\n",
        "\n",
        "  def initialize_hidden_state(self):\n",
        "    return tf.zeros((self.batch_sz,self.enc_units))"
      ],
      "execution_count": null,
      "outputs": []
    },
    {
      "cell_type": "code",
      "metadata": {
        "id": "DAZuGxGFq5p7",
        "colab_type": "code",
        "colab": {
          "base_uri": "https://localhost:8080/",
          "height": 35
        },
        "outputId": "7a5ed3ac-f23b-4f4f-97c3-a795a8c83b8a"
      },
      "source": [
        "encoder = Encoder(vocab_inp_size,embedding_dim,units,BATCH_SIZE)\n",
        "\n",
        "sample_hidden = encoder.initialize_hidden_state()\n",
        "sample_batch = tf.ones((BATCH_SIZE,max_length_inp))\n",
        "\n",
        "sample_out, sample_state = encoder(sample_batch,sample_hidden)\n",
        "\n",
        "print(f\"Encoder output shpe : {sample_out.shape} ,hidden state shape : {sample_state.shape}\")"
      ],
      "execution_count": null,
      "outputs": [
        {
          "output_type": "stream",
          "text": [
            "Encoder output shpe : (64, 51, 1024) ,hidden state shape : (64, 1024)\n"
          ],
          "name": "stdout"
        }
      ]
    },
    {
      "cell_type": "code",
      "metadata": {
        "id": "PQarMhhZyNnf",
        "colab_type": "code",
        "colab": {}
      },
      "source": [
        "class BahdanauAttention(tf.keras.layers.Layer):\n",
        "  def __init__(self,units):\n",
        "    super(BahdanauAttention,self).__init__()\n",
        "    self.W1 = tf.keras.layers.Dense(units)\n",
        "    self.W2 = tf.keras.layers.Dense(units)\n",
        "    self.V = tf.keras.layers.Dense(1)\n",
        "\n",
        "  def __call__(self,query,value):\n",
        "    query_with_time_axis = tf.expand_dims(query,1)\n",
        "\n",
        "    score = self.V(tf.nn.tanh(\n",
        "        self.W1(query_with_time_axis) + self.W2(value)))\n",
        "    \n",
        "    attention_weights = tf.nn.softmax(score,axis=1)\n",
        "\n",
        "    context_vector = attention_weights * value\n",
        "    context_vector = tf.reduce_sum(context_vector,axis=1)\n",
        "\n",
        "    return context_vector, attention_weights"
      ],
      "execution_count": null,
      "outputs": []
    },
    {
      "cell_type": "code",
      "metadata": {
        "id": "xavIyokByNCI",
        "colab_type": "code",
        "colab": {
          "base_uri": "https://localhost:8080/",
          "height": 35
        },
        "outputId": "22d86809-0b59-4698-e48f-eaa4ddf3d45f"
      },
      "source": [
        "attention_layer = BahdanauAttention(10)\n",
        "attention_result, attention_weights = attention_layer(sample_hidden, sample_out)\n",
        "\n",
        "print(f\"Attention output shape: {attention_result.shape} , attention weights shape: {attention_weights.shape}\")"
      ],
      "execution_count": null,
      "outputs": [
        {
          "output_type": "stream",
          "text": [
            "Attention output shape: (64, 1024) , attention weights shape: (64, 51, 1)\n"
          ],
          "name": "stdout"
        }
      ]
    },
    {
      "cell_type": "code",
      "metadata": {
        "id": "9Bt7P7WmrThQ",
        "colab_type": "code",
        "colab": {}
      },
      "source": [
        "class Decoder(tf.keras.Model):\n",
        "  def __init__(self,vocab_size,embedding_dim,dec_units,batch_sz):\n",
        "    super(Decoder,self).__init__()\n",
        "    self.vocab_size = vocab_size\n",
        "    self.batch_sz = batch_sz\n",
        "    self.embedding = tf.keras.layers.Embedding(vocab_size,embedding_dim)\n",
        "    self.gru = tf.keras.layers.GRU(dec_units,\n",
        "                                  return_sequences = True,\n",
        "                                  return_state = True,\n",
        "                                  recurrent_initializer='glorot_uniform')    \n",
        "    self.fc = tf.keras.layers.Dense(vocab_size)\n",
        "    self.attention = BahdanauAttention(dec_units)\n",
        "  def __call__(self,x,hidden,enc_output):\n",
        "    context_vector, attention_weights = self.attention(hidden,enc_output)\n",
        "    \n",
        "    x = self.embedding(x)\n",
        "\n",
        "    x = tf.concat([tf.expand_dims(context_vector,1),x],axis=-1)\n",
        "\n",
        "    output, state = self.gru(x)\n",
        "\n",
        "    output = tf.reshape(output,(-1,output.shape[2]))\n",
        "\n",
        "    x = self.fc(x)\n",
        "\n",
        "    return x, state, attention_weights"
      ],
      "execution_count": null,
      "outputs": []
    },
    {
      "cell_type": "code",
      "metadata": {
        "id": "tzEa0MxkP_bc",
        "colab_type": "code",
        "colab": {
          "base_uri": "https://localhost:8080/",
          "height": 35
        },
        "outputId": "6bec0798-35dd-49c0-a545-95e9f3465996"
      },
      "source": [
        "decoder = Decoder(vocab_tar_size,embedding_dim,units,BATCH_SIZE)\n",
        "\n",
        "sample_decoder_output,_,_ = decoder(tf.ones((BATCH_SIZE,1)),sample_hidden,sample_out)\n",
        "\n",
        "print(f\"Decoder output shape: {sample_decoder_output.shape}\")"
      ],
      "execution_count": null,
      "outputs": [
        {
          "output_type": "stream",
          "text": [
            "Decoder output shape: (64, 1, 22415)\n"
          ],
          "name": "stdout"
        }
      ]
    },
    {
      "cell_type": "code",
      "metadata": {
        "id": "DzrV5GlIQ-7d",
        "colab_type": "code",
        "colab": {}
      },
      "source": [
        "optimizer = tf.keras.optimizers.Adam()\n",
        "loss_object = tf.keras.losses.SparseCategoricalCrossentropy(from_logits=True,\n",
        "                                                     reduction='none')\n",
        "\n",
        "\n",
        "def loss_function(real,preds):\n",
        "  mask = tf.math.logical_not(tf.math.equal(real,0))\n",
        "  loss_ = loss_object(real,preds)\n",
        "\n",
        "  mask = tf.cast(mask,loss_.dtype)\n",
        "  loss_ *=mask\n",
        "\n",
        "  return tf.reduce_mean(loss_)"
      ],
      "execution_count": null,
      "outputs": []
    },
    {
      "cell_type": "code",
      "metadata": {
        "id": "ZKpvwJd4YqGe",
        "colab_type": "code",
        "colab": {}
      },
      "source": [
        "checkpoint_dir = '/content/gdrive/My Drive/Colab Notebooks/training_checkpoints'\n",
        "\n",
        "checkpoint_prefix = os.path.join(checkpoint_dir,'ckpt')\n",
        "checkpoint = tf.train.Checkpoint(optimizer=optimizer,\n",
        "                                 encoder=encoder,\n",
        "                                 decoder=decoder)"
      ],
      "execution_count": null,
      "outputs": []
    },
    {
      "cell_type": "code",
      "metadata": {
        "id": "01rkrPpbZ0og",
        "colab_type": "code",
        "colab": {}
      },
      "source": [
        "@tf.function\n",
        "def train_step(inp,targ,enc_hidden):\n",
        "  loss = 0\n",
        "\n",
        "  with tf.GradientTape() as tape:\n",
        "    enc_output, enc_hidden = encoder(inp,enc_hidden)\n",
        "\n",
        "    dec_hidden = enc_hidden\n",
        "\n",
        "    dec_input = tf.expand_dims([targ_lang.word_index['<start>']]*BATCH_SIZE,1)\n",
        "\n",
        "    for t in range(1,targ.shape[1]):\n",
        "      predictions, dec_hidden, _ = decoder(dec_input,dec_hidden,enc_output)\n",
        "\n",
        "      loss += loss_function(targ[:,t],predictions)\n",
        "\n",
        "      dec_input = tf.expand_dims(targ[:,t],1)\n",
        "\n",
        "    batch_loss = loss/int(targ.shape[1])\n",
        "\n",
        "    variables = encoder.trainable_variables + decoder.trainable_variables\n",
        "\n",
        "    gradients = tape.gradient(loss,variables)\n",
        "\n",
        "    optimizer.apply_gradients(zip(gradients,variables))\n",
        "\n",
        "    return batch_loss"
      ],
      "execution_count": null,
      "outputs": []
    },
    {
      "cell_type": "code",
      "metadata": {
        "id": "wJRTbqUadZy-",
        "colab_type": "code",
        "colab": {}
      },
      "source": [
        "# EPOCHS = 12\n",
        "\n",
        "# for e in range(1,EPOCHS+1):\n",
        "#   start = time.time()\n",
        "\n",
        "#   enc_hidden = encoder.initialize_hidden_state()\n",
        "#   total_loss = 0\n",
        "\n",
        "#   for (batch, (inp,targ)) in enumerate(dataset.take(steps_per_epoch)):\n",
        "#     batch_loss = train_step(inp,targ,enc_hidden)\n",
        "#     total_loss += batch_loss\n",
        "\n",
        "#     if batch% 100 == 0:\n",
        "#       print(f\"Epoch {e} Batch {batch} Loss {batch_loss.numpy()}\")\n",
        "\n",
        "#   if e%2 == 0 and e != 0 :\n",
        "#     checkpoint.save(file_prefix = checkpoint_prefix)\n",
        "\n",
        "#   print(f\"Epoch {e} Loss {total_loss/steps_per_epoch}\")\n",
        "#   print(f\"Time taken: {time.time() - start}\")\n"
      ],
      "execution_count": null,
      "outputs": []
    },
    {
      "cell_type": "code",
      "metadata": {
        "id": "9RPantoWnP8K",
        "colab_type": "code",
        "colab": {
          "base_uri": "https://localhost:8080/",
          "height": 35
        },
        "outputId": "16118294-ee19-4123-a936-f7a6ca9e4232"
      },
      "source": [
        "# checkpoint.save(file_prefix = checkpoint_prefix)?\n",
        "checkpoint.restore(tf.train.latest_checkpoint(checkpoint_dir))"
      ],
      "execution_count": null,
      "outputs": [
        {
          "output_type": "execute_result",
          "data": {
            "text/plain": [
              "<tensorflow.python.training.tracking.util.CheckpointLoadStatus at 0x7fe56ec82080>"
            ]
          },
          "metadata": {
            "tags": []
          },
          "execution_count": 23
        }
      ]
    },
    {
      "cell_type": "code",
      "metadata": {
        "id": "vvceLdMYp4vm",
        "colab_type": "code",
        "colab": {}
      },
      "source": [
        "def evaluate(sentence):\n",
        "  attention_plot = np.zeros((max_length_targ,max_length_inp))\n",
        "\n",
        "  sentence = preprocess_sentence(sentence)\n",
        "  # print(sentence)\n",
        "  sentence = inp_lang.texts_to_sequences([sentence])\n",
        "  # print(sentence)\n",
        "  sentence = tf.keras.preprocessing.sequence.pad_sequences(sentence,max_length_inp,padding='post')\n",
        "  print(sentence)\n",
        "\n",
        "  input_tensor = tf.convert_to_tensor(sentence)\n",
        "  hidden = tf.zeros((1,units))\n",
        "\n",
        "  enc_output, enc_hidden = encoder(input_tensor,hidden)\n",
        "\n",
        "  # print(enc_output.shape,enc_hidden.shape)\n",
        "\n",
        "  dec_input =tf.expand_dims([targ_lang.word_index['<start>']],axis=1)\n",
        "  dec_hidden = enc_hidden\n",
        "\n",
        "  target=[inp_lang.word_index['<start>']]\n",
        "  for i in range(max_length_targ):\n",
        "    pred,dec_hidden,attention_weights = decoder(dec_input,dec_hidden,enc_output)\n",
        "    # print(pred.shape,dec_hidden.shape,attention_weights.shape)\n",
        "    \n",
        "    \n",
        "    attention_plot[i] = attention_weights[0,:,0]\n",
        "\n",
        "    target.append(tf.argmax(pred,axis=2).numpy()[0][0])\n",
        "\n",
        "    dec_input = tf.expand_dims([target[-1]],axis=0)\n",
        "  print(target)\n",
        "  target = targ_lang.sequences_to_texts([target])  \n",
        "  # attention_plot = attention_plot[:input_tensor.shape[1]][:len(target[0])]\n",
        "\n",
        "\n",
        "  return (target[0],attention_plot)"
      ],
      "execution_count": null,
      "outputs": []
    },
    {
      "cell_type": "code",
      "metadata": {
        "id": "ptI89im3rTwg",
        "colab_type": "code",
        "colab": {}
      },
      "source": [
        "def plot_attention(attention, sentence, predicted_sentence):\n",
        "  fig = plt.figure(figsize=(10,10))\n",
        "  ax = fig.add_subplot(1, 1, 1)\n",
        "  ax.matshow(attention, cmap='viridis')\n",
        "\n",
        "  fontdict = {'fontsize': 14}\n",
        "\n",
        "  ax.set_xticklabels([''] + sentence, fontdict=fontdict, rotation=90)\n",
        "  ax.set_yticklabels([''] + predicted_sentence, fontdict=fontdict)\n",
        "\n",
        "  ax.xaxis.set_major_locator(ticker.MultipleLocator(1))\n",
        "  ax.yaxis.set_major_locator(ticker.MultipleLocator(1))\n",
        "\n",
        "  plt.show()"
      ],
      "execution_count": null,
      "outputs": []
    },
    {
      "cell_type": "code",
      "metadata": {
        "id": "_gzVsc9NreHz",
        "colab_type": "code",
        "colab": {
          "base_uri": "https://localhost:8080/",
          "height": 730
        },
        "outputId": "032b2281-122f-4b2b-a12a-03daf0abf534"
      },
      "source": [
        "s = u'hace mucho frio aqui.'\n",
        "t,a = evaluate(s)\n",
        "plot_attention(a[:len(t.split(' ')),:len(preprocess_sentence(s).split(' '))],preprocess_sentence(s).split(' '),t.split(' '))"
      ],
      "execution_count": null,
      "outputs": [
        {
          "output_type": "stream",
          "text": [
            "[[  1  86  72 839  97   2   0   0   0   0   0   0   0   0   0   0   0   0\n",
            "    0   0   0   0   0   0   0   0   0   0   0   0   0   0   0   0   0   0\n",
            "    0   0   0   0   0   0   0   0   0   0   0   0   0   0   0]]\n",
            "[1, 15, 12, 52, 472, 110, 2, 0, 0, 0, 0, 0, 0, 0, 0, 0, 0, 0, 0, 0, 0, 0, 0, 0, 0, 0, 0, 0, 0, 0, 0, 0, 0, 0, 0, 0, 0, 0, 0, 0, 0, 0, 0, 0, 0, 0, 0, 0, 0, 0]\n",
            "<start> it s very cold here. <end>\n"
          ],
          "name": "stdout"
        },
        {
          "output_type": "display_data",
          "data": {
            "image/png": "[encoded data removed]",
            "text/plain": [
              "<Figure size 720x720 with 1 Axes>"
            ]
          },
          "metadata": {
            "tags": [],
            "needs_background": "light"
          }
        }
      ]
    }
  ]
}